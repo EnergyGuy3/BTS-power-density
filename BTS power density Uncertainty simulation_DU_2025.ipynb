{
 "cells": [
  {
   "cell_type": "code",
   "execution_count": 1,
   "metadata": {},
   "outputs": [],
   "source": [
    "import numpy as np\n",
    "import pandas as pd\n",
    "import random\n",
    "import astetik as ast\n",
    "\n",
    "def BTS_PD_Uncertainty(count):\n",
    "    \n",
    "    out = []\n",
    "    \n",
    "    ## running random pick of parameters for (count)\n",
    "    \n",
    "    for i in range(count):\n",
    "        if i <= count:\n",
    "\n",
    "            ## setting up input parameter ranges and steps\n",
    "            \n",
    "            D = np.arange(5454000000, 10639000000, 10000000) ## consumed data in GB in the network -30% to +38% unsymmetric uncertainty\n",
    "            X_3G = np.arange(0.0, 0.03, 0.00033) ## share of 3G RAT in a network 2% units uncertainty, unsymmetric uncertainty\n",
    "            X_5G = np.arange(0.33, 0.37, 0.0001) ## share of 5G RAT in a network 2% units uncertainty\n",
    "            E_3G = np.arange(2.24, 3.36, 0.001) ## Energy consumption per 3G data symmertric uncertainty 20% \n",
    "            E_4G = np.arange(0.0832, 0.1248, 0.0003) ## Energy consumption per 4G data symmetric uncertainty 20% \n",
    "            E_5G = np.arange(0.00832, 0.01248, 0.00003) ## Energy consumption per 5G data symmetric uncertainty 20%\n",
    "            sub = np.arange(8870000, 9702000, 31300) ## number of total subscriptions symmetric uncertainty 5%\n",
    "            users = np.arange(3127, 5211, 13.9) ## users in the DU area symmetric uncertainty 25% \n",
    "            \n",
    "            ## random pick of input parameter values and calculating energy cosnumption (NOTE, sum of X must be 1!!)\n",
    "            X_3G_1 = random.choice(X_3G)\n",
    "            X_5G_1 = random.choice(X_5G)\n",
    "            E = (random.choice(D)*(random.choice(E_3G)*X_3G_1 + random.choice(E_4G) * (1-X_3G_1-X_5G_1) + random.choice(E_5G) * X_5G_1) / random.choice(sub) * random.choice(users))/1000\n",
    "            \n",
    "            out.append([E])\n",
    "            \n",
    "            results = pd.DataFrame(out)\n",
    "            results.columns = ['E']\n",
    "    return pd.DataFrame(results)\n",
    "    "
   ]
  },
  {
   "cell_type": "code",
   "execution_count": 2,
   "metadata": {},
   "outputs": [
    {
     "name": "stdout",
     "output_type": "stream",
     "text": [
      "Mean value is 401.64359440259483 : Standard deviation is 134.20018532292045\n",
      "Min value is 113.52547645470491 : Max value is 1043.920394858625\n"
     ]
    },
    {
     "data": {
      "image/png": "[encoded data removed]",
      "text/plain": [
       "<Figure size 720x475.2 with 1 Axes>"
      ]
     },
     "metadata": {
      "needs_background": "light"
     },
     "output_type": "display_data"
    }
   ],
   "source": [
    "scores = BTS_PD_Uncertainty(300000)\n",
    "\n",
    "## plotting histogram\n",
    "\n",
    "ast.hist(scores, 'E', bins=300, x_limit=None,\n",
    "\n",
    "                 title='BTS Power Density in DU area 2025 (MWh/y)',\n",
    "\n",
    "                 sub_title='n=300000',\n",
    "             \n",
    "                 x_label='MWh/y',\n",
    "\n",
    "                 y_label='kernel density')\n",
    "\n",
    "## calculating distribution KPIs\n",
    "\n",
    "print('Mean value is', scores['E'].mean(), ':', 'Standard deviation is', scores['E'].std())\n",
    "print('Min value is', scores['E'].min(), ':', 'Max value is', scores['E'].max())"
   ]
  },
  {
   "cell_type": "code",
   "execution_count": null,
   "metadata": {},
   "outputs": [],
   "source": []
  }
 ],
 "metadata": {
  "kernelspec": {
   "display_name": "Python 3",
   "language": "python",
   "name": "python3"
  },
  "language_info": {
   "codemirror_mode": {
    "name": "ipython",
    "version": 3
   },
   "file_extension": ".py",
   "mimetype": "text/x-python",
   "name": "python",
   "nbconvert_exporter": "python",
   "pygments_lexer": "ipython3",
   "version": "3.7.3"
  }
 },
 "nbformat": 4,
 "nbformat_minor": 2
}
